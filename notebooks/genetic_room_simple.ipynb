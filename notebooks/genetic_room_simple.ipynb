{
 "cells": [
  {
   "attachments": {},
   "cell_type": "markdown",
   "metadata": {},
   "source": [
    "# Genetic algorithm in a simple room 15x15"
   ]
  },
  {
   "attachments": {},
   "cell_type": "markdown",
   "metadata": {},
   "source": [
    "Be careful to use this, you must set minihack kernel to run the scripts \n"
   ]
  },
  {
   "cell_type": "code",
   "execution_count": null,
   "metadata": {},
   "outputs": [],
   "source": [
    "import numpy as np\n",
    "import sys\n",
    "import time\n",
    "import random\n",
    "import matplotlib.pyplot as plt\n",
    "\n",
    "import gym\n",
    "import minihack\n",
    "\n",
    "import pygad\n",
    "\n",
    "sys.path.append('../')\n",
    "from src.fitness_functions import *\n",
    "\n",
    "# Just to import files with - inside their name\n",
    "from src.minihack_fully_obs import *\n",
    "from src.rules import Rule\n",
    "\n",
    "\n"
   ]
  },
  {
   "cell_type": "code",
   "execution_count": null,
   "metadata": {},
   "outputs": [],
   "source": [
    "\n",
    "\n",
    "#Generate a Room-15x15 task\n",
    "env=gym.make(\n",
    "    \"MiniHack-Room-Random-15x15-v0\",\n",
    "     observation_keys=(\"chars\", \"colors\", \"specials\", \"pixel\"),\n",
    ")\n",
    " \n",
    "obs = env.reset() #Generate a new environment and save the describtions arrays in obs\n",
    "env.render() #Print the room \n",
    "#\n",
    "#obs contains the \"glyphs\",\"chars\",...,\"pixel\" arrays which describe the room\n",
    "#See documentation for information on arrays\n",
    "i,j = search_environment_indexes(obs['chars'])\n",
    "\n",
    "agent_position = search_environment_agent_position(obs['chars'])\n",
    "goal_position = search_environment_goal_position(obs['chars'])\n",
    "\n",
    "#print(\"The matrix of int that represent the random room is:\")\n",
    "#print(obs['chars'][i:i+15, j:j+15])\n",
    "#print(\"\\n\\n\\n\\n\")\n",
    "#\n",
    "#print(\"Tha matrix in ASCII that represent the random room is:\")\n",
    "#print_room(obs['chars'][i:i+15, j:j+15])\n",
    "\n",
    "\n",
    "\n"
   ]
  },
  {
   "attachments": {},
   "cell_type": "markdown",
   "metadata": {},
   "source": [
    "## Pygad setting for genetic algorithm\n",
    "\n",
    "1. Preparing the fitness_func parameter.\n",
    "2. Preparing Other Parameters.\n",
    "3. Import pygad.\n",
    "4. Create an Instance of the pygad.GA Class.\n",
    "5. Run the Genetic Algorithm.\n",
    "6. Plotting Results.\n",
    "7. Information about the Best Solution.\n",
    "8. Saving & Loading the Results.\n",
    "\n",
    "## Fitness function\n",
    "$(f(x) - f'(x))\\frac{1}{f(x)}$\n",
    "\n",
    "where $f(x)$ is the state before and $f'(x)$ is the state after the rule applied, and f and f' are the manhattan distances"
   ]
  },
  {
   "cell_type": "code",
   "execution_count": null,
   "metadata": {},
   "outputs": [],
   "source": [
    "\n",
    "# Prepare fitness function\n",
    "#TODO: Use a fitness fuction like that above\n",
    "\n"
   ]
  },
  {
   "cell_type": "markdown",
   "metadata": {},
   "source": [
    " "
   ]
  }
 ],
 "metadata": {
  "kernelspec": {
   "display_name": "minihack",
   "language": "python",
   "name": "python3"
  },
  "language_info": {
   "codemirror_mode": {
    "name": "ipython",
    "version": 3
   },
   "file_extension": ".py",
   "mimetype": "text/x-python",
   "name": "python",
   "nbconvert_exporter": "python",
   "pygments_lexer": "ipython3",
   "version": "3.8.16"
  },
  "orig_nbformat": 4,
  "vscode": {
   "interpreter": {
    "hash": "225342802ed85a0002a561b5e0fd78264fe9258752f7875914e1d010453066c2"
   }
  }
 },
 "nbformat": 4,
 "nbformat_minor": 2
}
